{
 "cells": [
  {
   "cell_type": "markdown",
   "id": "769da64e",
   "metadata": {},
   "source": [
    "# HEART DISEASE"
   ]
  },
  {
   "cell_type": "code",
   "execution_count": 1,
   "id": "1fb49c09",
   "metadata": {},
   "outputs": [],
   "source": [
    "import itertools\n",
    "import numpy as np\n",
    "import matplotlib.pyplot as plt\n",
    "from matplotlib.ticker import NullFormatter\n",
    "import pandas as pd\n",
    "pd.options.mode.chained_assignment = None\n",
    "import matplotlib.ticker as ticker\n",
    "from sklearn import preprocessing\n",
    "%matplotlib inline\n",
    "from sklearn.neighbors import KNeighborsClassifier"
   ]
  },
  {
   "cell_type": "code",
   "execution_count": 2,
   "id": "01edf7cc",
   "metadata": {},
   "outputs": [],
   "source": [
    "import pandas as pd\n",
    "pd.options.mode.chained_assignment = None\n",
    "from tensorflow.keras.layers import InputLayer,Dense, Activation,Dropout\n",
    "from tensorflow.keras.models import Sequential\n",
    "from tensorflow.keras.optimizers import Adam\n",
    "from sklearn.preprocessing import StandardScaler"
   ]
  },
  {
   "cell_type": "code",
   "execution_count": 9,
   "id": "ee7fb4bf",
   "metadata": {},
   "outputs": [],
   "source": [
    "df=pd.read_csv('E:/Downloads/disease detection/heart.csv')"
   ]
  },
  {
   "cell_type": "code",
   "execution_count": 10,
   "id": "2604d286",
   "metadata": {
    "scrolled": true
   },
   "outputs": [
    {
     "data": {
      "text/html": [
       "<div>\n",
       "<style scoped>\n",
       "    .dataframe tbody tr th:only-of-type {\n",
       "        vertical-align: middle;\n",
       "    }\n",
       "\n",
       "    .dataframe tbody tr th {\n",
       "        vertical-align: top;\n",
       "    }\n",
       "\n",
       "    .dataframe thead th {\n",
       "        text-align: right;\n",
       "    }\n",
       "</style>\n",
       "<table border=\"1\" class=\"dataframe\">\n",
       "  <thead>\n",
       "    <tr style=\"text-align: right;\">\n",
       "      <th></th>\n",
       "      <th>Age</th>\n",
       "      <th>Sex</th>\n",
       "      <th>ChestPainType</th>\n",
       "      <th>RestingBP</th>\n",
       "      <th>Cholesterol</th>\n",
       "      <th>FastingBS</th>\n",
       "      <th>RestingECG</th>\n",
       "      <th>MaxHR</th>\n",
       "      <th>ExerciseAngina</th>\n",
       "      <th>Oldpeak</th>\n",
       "      <th>ST_Slope</th>\n",
       "      <th>HeartDisease</th>\n",
       "    </tr>\n",
       "  </thead>\n",
       "  <tbody>\n",
       "    <tr>\n",
       "      <th>0</th>\n",
       "      <td>40</td>\n",
       "      <td>M</td>\n",
       "      <td>ATA</td>\n",
       "      <td>140</td>\n",
       "      <td>289</td>\n",
       "      <td>0</td>\n",
       "      <td>Normal</td>\n",
       "      <td>172</td>\n",
       "      <td>N</td>\n",
       "      <td>0.0</td>\n",
       "      <td>Up</td>\n",
       "      <td>0</td>\n",
       "    </tr>\n",
       "    <tr>\n",
       "      <th>1</th>\n",
       "      <td>49</td>\n",
       "      <td>F</td>\n",
       "      <td>NAP</td>\n",
       "      <td>160</td>\n",
       "      <td>180</td>\n",
       "      <td>0</td>\n",
       "      <td>Normal</td>\n",
       "      <td>156</td>\n",
       "      <td>N</td>\n",
       "      <td>1.0</td>\n",
       "      <td>Flat</td>\n",
       "      <td>1</td>\n",
       "    </tr>\n",
       "    <tr>\n",
       "      <th>2</th>\n",
       "      <td>37</td>\n",
       "      <td>M</td>\n",
       "      <td>ATA</td>\n",
       "      <td>130</td>\n",
       "      <td>283</td>\n",
       "      <td>0</td>\n",
       "      <td>ST</td>\n",
       "      <td>98</td>\n",
       "      <td>N</td>\n",
       "      <td>0.0</td>\n",
       "      <td>Up</td>\n",
       "      <td>0</td>\n",
       "    </tr>\n",
       "    <tr>\n",
       "      <th>3</th>\n",
       "      <td>48</td>\n",
       "      <td>F</td>\n",
       "      <td>ASY</td>\n",
       "      <td>138</td>\n",
       "      <td>214</td>\n",
       "      <td>0</td>\n",
       "      <td>Normal</td>\n",
       "      <td>108</td>\n",
       "      <td>Y</td>\n",
       "      <td>1.5</td>\n",
       "      <td>Flat</td>\n",
       "      <td>1</td>\n",
       "    </tr>\n",
       "    <tr>\n",
       "      <th>4</th>\n",
       "      <td>54</td>\n",
       "      <td>M</td>\n",
       "      <td>NAP</td>\n",
       "      <td>150</td>\n",
       "      <td>195</td>\n",
       "      <td>0</td>\n",
       "      <td>Normal</td>\n",
       "      <td>122</td>\n",
       "      <td>N</td>\n",
       "      <td>0.0</td>\n",
       "      <td>Up</td>\n",
       "      <td>0</td>\n",
       "    </tr>\n",
       "  </tbody>\n",
       "</table>\n",
       "</div>"
      ],
      "text/plain": [
       "   Age Sex ChestPainType  RestingBP  Cholesterol  FastingBS RestingECG  MaxHR  \\\n",
       "0   40   M           ATA        140          289          0     Normal    172   \n",
       "1   49   F           NAP        160          180          0     Normal    156   \n",
       "2   37   M           ATA        130          283          0         ST     98   \n",
       "3   48   F           ASY        138          214          0     Normal    108   \n",
       "4   54   M           NAP        150          195          0     Normal    122   \n",
       "\n",
       "  ExerciseAngina  Oldpeak ST_Slope  HeartDisease  \n",
       "0              N      0.0       Up             0  \n",
       "1              N      1.0     Flat             1  \n",
       "2              N      0.0       Up             0  \n",
       "3              Y      1.5     Flat             1  \n",
       "4              N      0.0       Up             0  "
      ]
     },
     "execution_count": 10,
     "metadata": {},
     "output_type": "execute_result"
    }
   ],
   "source": [
    "df.head()"
   ]
  },
  {
   "cell_type": "code",
   "execution_count": 6,
   "id": "2decba38",
   "metadata": {},
   "outputs": [
    {
     "data": {
      "text/plain": [
       "Age                50\n",
       "Sex                 2\n",
       "ChestPainType       4\n",
       "RestingBP          67\n",
       "Cholesterol       222\n",
       "FastingBS           2\n",
       "RestingECG          3\n",
       "MaxHR             119\n",
       "ExerciseAngina      2\n",
       "Oldpeak            53\n",
       "ST_Slope            3\n",
       "HeartDisease        2\n",
       "dtype: int64"
      ]
     },
     "execution_count": 6,
     "metadata": {},
     "output_type": "execute_result"
    }
   ],
   "source": [
    "df.nunique(axis=0)"
   ]
  },
  {
   "cell_type": "code",
   "execution_count": null,
   "id": "7862eb25",
   "metadata": {},
   "outputs": [],
   "source": [
    "RestingECG - Normal 0\n",
    "             ST     1\n",
    "             LHV    2\n",
    "ST_Slope - Flat 0\n",
    "           Up   1\n",
    "           Down 2\n",
    "ExerciseAngina - N 0\n",
    "                 Y 1\n",
    "ChestPainType - ATA 0\n",
    "                NAP 1\n",
    "                ASY 2\n",
    "                TA  3\n",
    "Sex - M 0\n",
    "      F 1\n",
    "      "
   ]
  },
  {
   "cell_type": "code",
   "execution_count": 11,
   "id": "df84e4ec",
   "metadata": {
    "scrolled": true
   },
   "outputs": [],
   "source": [
    "for i,j in enumerate(df[\"Sex\"]):\n",
    "    if j==\"M\":\n",
    "        df[\"Sex\"][i] = 0\n",
    "    else:\n",
    "        df[\"Sex\"][i] = 1\n",
    "        \n",
    "for i,j in enumerate(df[\"ChestPainType\"]):\n",
    "    if j==\"ATA\":\n",
    "        df[\"ChestPainType\"][i] = 0\n",
    "    elif j==\"NAP\":\n",
    "        df[\"ChestPainType\"][i] = 1\n",
    "    elif j==\"ASY\":\n",
    "        df[\"ChestPainType\"][i] = 2\n",
    "    else:\n",
    "        df[\"ChestPainType\"][i] = 3\n",
    "        \n",
    "for i,j in enumerate(df[\"RestingECG\"]):\n",
    "    if j==\"Normal\":\n",
    "        df[\"RestingECG\"][i] = 0\n",
    "    elif j==\"ST\":\n",
    "        df[\"RestingECG\"][i] = 1\n",
    "    else:\n",
    "        df[\"RestingECG\"][i] = 2\n",
    "\n",
    "for i,j in enumerate(df[\"ST_Slope\"]):\n",
    "    if j==\"Flat\":\n",
    "        df[\"ST_Slope\"][i] = 0\n",
    "    elif j==\"Up\":\n",
    "        df[\"ST_Slope\"][i] = 1\n",
    "    else:\n",
    "        df[\"ST_Slope\"][i] = 2\n",
    "        \n",
    "for i,j in enumerate(df[\"ExerciseAngina\"]):\n",
    "    if j==\"N\":\n",
    "        df[\"ExerciseAngina\"][i] = 0\n",
    "    else:\n",
    "        df[\"ExerciseAngina\"][i] = 1"
   ]
  },
  {
   "cell_type": "code",
   "execution_count": 12,
   "id": "2557dbac",
   "metadata": {},
   "outputs": [],
   "source": [
    "X = df[[\"Age\", \"Sex\", \"ChestPainType\", \"RestingBP\", \"Cholesterol\", \"FastingBS\", \"RestingECG\", \"MaxHR\", 'ExerciseAngina', \"Oldpeak\", \"ST_Slope\"]].values\n",
    "Y = df[\"HeartDisease\"].values"
   ]
  },
  {
   "cell_type": "code",
   "execution_count": 15,
   "id": "3f55f9c7",
   "metadata": {},
   "outputs": [],
   "source": [
    "X=preprocessing.StandardScaler().fit(X).transform(X.astype(float))"
   ]
  },
  {
   "cell_type": "code",
   "execution_count": 16,
   "id": "db91cc56",
   "metadata": {},
   "outputs": [
    {
     "name": "stdout",
     "output_type": "stream",
     "text": [
      "Train set: (734, 11) (734,)\n",
      "Test set: (184, 11) (184,)\n"
     ]
    }
   ],
   "source": [
    "from sklearn.model_selection import train_test_split\n",
    "X_train, X_test, y_train, y_test = train_test_split( X, Y, test_size=0.2, random_state=4)\n",
    "print ('Train set:', X_train.shape,  y_train.shape)\n",
    "print ('Test set:', X_test.shape,  y_test.shape)"
   ]
  },
  {
   "cell_type": "markdown",
   "id": "785b4431",
   "metadata": {},
   "source": [
    "KNN"
   ]
  },
  {
   "cell_type": "code",
   "execution_count": 25,
   "id": "f043abbf",
   "metadata": {},
   "outputs": [],
   "source": [
    "k=2\n",
    "neigh=KNeighborsClassifier(n_neighbors=k).fit(X_train,y_train)\n",
    "yhat=neigh.predict(X_test)"
   ]
  },
  {
   "cell_type": "code",
   "execution_count": 26,
   "id": "a893fdb8",
   "metadata": {},
   "outputs": [
    {
     "name": "stdout",
     "output_type": "stream",
     "text": [
      "Train set Accuracy:  0.8978201634877384\n",
      "Test set Accuracy:  0.8260869565217391\n"
     ]
    }
   ],
   "source": [
    "from sklearn import metrics\n",
    "print(\"Train set Accuracy: \", metrics.accuracy_score(y_train, neigh.predict(X_train)))\n",
    "print(\"Test set Accuracy: \", metrics.accuracy_score(y_test, yhat))"
   ]
  },
  {
   "cell_type": "code",
   "execution_count": 27,
   "id": "1db2d411",
   "metadata": {},
   "outputs": [],
   "source": [
    "import pickle\n",
    "\n",
    "knnPickle = open('Heart Disease', 'wb') \n",
    "pickle.dump(neigh, knnPickle)\n",
    "knnPickle.close()\n"
   ]
  },
  {
   "cell_type": "code",
   "execution_count": 28,
   "id": "6cb2ad8e",
   "metadata": {},
   "outputs": [],
   "source": [
    "loaded_model = pickle.load(open('Heart Disease', 'rb'))\n",
    "result = loaded_model.predict(X_test) "
   ]
  },
  {
   "cell_type": "code",
   "execution_count": 30,
   "id": "cedb88d6",
   "metadata": {},
   "outputs": [
    {
     "name": "stdout",
     "output_type": "stream",
     "text": [
      "Test set Accuracy:  0.8260869565217391\n"
     ]
    }
   ],
   "source": [
    "print(\"Test set Accuracy: \", metrics.accuracy_score(y_test, result))"
   ]
  },
  {
   "cell_type": "markdown",
   "id": "f30fbb82",
   "metadata": {},
   "source": [
    "ANN"
   ]
  },
  {
   "cell_type": "code",
   "execution_count": 59,
   "id": "5a1d599f",
   "metadata": {},
   "outputs": [
    {
     "name": "stdout",
     "output_type": "stream",
     "text": [
      "Epoch 1/100\n",
      "23/23 [==============================] - 2s 4ms/step - loss: 0.7056 - accuracy: 0.4809\n",
      "Epoch 2/100\n",
      "23/23 [==============================] - 0s 4ms/step - loss: 0.6666 - accuracy: 0.7112\n",
      "Epoch 3/100\n",
      "23/23 [==============================] - 0s 3ms/step - loss: 0.6113 - accuracy: 0.7929\n",
      "Epoch 4/100\n",
      "23/23 [==============================] - 0s 3ms/step - loss: 0.5465 - accuracy: 0.8147\n",
      "Epoch 5/100\n",
      "23/23 [==============================] - 0s 6ms/step - loss: 0.4878 - accuracy: 0.8215\n",
      "Epoch 6/100\n",
      "23/23 [==============================] - 0s 5ms/step - loss: 0.4439 - accuracy: 0.8256\n",
      "Epoch 7/100\n",
      "23/23 [==============================] - 0s 4ms/step - loss: 0.4118 - accuracy: 0.8338\n",
      "Epoch 8/100\n",
      "23/23 [==============================] - 0s 6ms/step - loss: 0.3954 - accuracy: 0.8379\n",
      "Epoch 9/100\n",
      "23/23 [==============================] - 0s 7ms/step - loss: 0.3833 - accuracy: 0.8406\n",
      "Epoch 10/100\n",
      "23/23 [==============================] - 0s 8ms/step - loss: 0.3761 - accuracy: 0.8420\n",
      "Epoch 11/100\n",
      "23/23 [==============================] - 0s 5ms/step - loss: 0.3712 - accuracy: 0.8447\n",
      "Epoch 12/100\n",
      "23/23 [==============================] - 0s 6ms/step - loss: 0.3658 - accuracy: 0.8501\n",
      "Epoch 13/100\n",
      "23/23 [==============================] - 0s 5ms/step - loss: 0.3620 - accuracy: 0.8501\n",
      "Epoch 14/100\n",
      "23/23 [==============================] - 0s 5ms/step - loss: 0.3584 - accuracy: 0.8529\n",
      "Epoch 15/100\n",
      "23/23 [==============================] - 0s 5ms/step - loss: 0.3543 - accuracy: 0.8474\n",
      "Epoch 16/100\n",
      "23/23 [==============================] - 0s 5ms/step - loss: 0.3513 - accuracy: 0.8488\n",
      "Epoch 17/100\n",
      "23/23 [==============================] - 0s 5ms/step - loss: 0.3478 - accuracy: 0.8515\n",
      "Epoch 18/100\n",
      "23/23 [==============================] - 0s 9ms/step - loss: 0.3454 - accuracy: 0.8542\n",
      "Epoch 19/100\n",
      "23/23 [==============================] - 0s 4ms/step - loss: 0.3421 - accuracy: 0.8542\n",
      "Epoch 20/100\n",
      "23/23 [==============================] - 0s 4ms/step - loss: 0.3395 - accuracy: 0.8569\n",
      "Epoch 21/100\n",
      "23/23 [==============================] - 0s 3ms/step - loss: 0.3364 - accuracy: 0.8569\n",
      "Epoch 22/100\n",
      "23/23 [==============================] - 0s 5ms/step - loss: 0.3340 - accuracy: 0.8583\n",
      "Epoch 23/100\n",
      "23/23 [==============================] - 0s 4ms/step - loss: 0.3312 - accuracy: 0.8597\n",
      "Epoch 24/100\n",
      "23/23 [==============================] - 0s 5ms/step - loss: 0.3291 - accuracy: 0.8610\n",
      "Epoch 25/100\n",
      "23/23 [==============================] - 0s 4ms/step - loss: 0.3268 - accuracy: 0.8624\n",
      "Epoch 26/100\n",
      "23/23 [==============================] - 0s 5ms/step - loss: 0.3250 - accuracy: 0.8610\n",
      "Epoch 27/100\n",
      "23/23 [==============================] - 0s 6ms/step - loss: 0.3223 - accuracy: 0.8624\n",
      "Epoch 28/100\n",
      "23/23 [==============================] - 0s 4ms/step - loss: 0.3208 - accuracy: 0.8638\n",
      "Epoch 29/100\n",
      "23/23 [==============================] - 0s 9ms/step - loss: 0.3184 - accuracy: 0.8651\n",
      "Epoch 30/100\n",
      "23/23 [==============================] - 0s 8ms/step - loss: 0.3169 - accuracy: 0.8624\n",
      "Epoch 31/100\n",
      "23/23 [==============================] - 0s 4ms/step - loss: 0.3152 - accuracy: 0.8638\n",
      "Epoch 32/100\n",
      "23/23 [==============================] - 0s 4ms/step - loss: 0.3133 - accuracy: 0.8678\n",
      "Epoch 33/100\n",
      "23/23 [==============================] - 0s 4ms/step - loss: 0.3122 - accuracy: 0.8706\n",
      "Epoch 34/100\n",
      "23/23 [==============================] - 0s 4ms/step - loss: 0.3096 - accuracy: 0.8692\n",
      "Epoch 35/100\n",
      "23/23 [==============================] - 0s 3ms/step - loss: 0.3080 - accuracy: 0.8678\n",
      "Epoch 36/100\n",
      "23/23 [==============================] - 0s 5ms/step - loss: 0.3062 - accuracy: 0.8692\n",
      "Epoch 37/100\n",
      "23/23 [==============================] - 0s 5ms/step - loss: 0.3046 - accuracy: 0.8706\n",
      "Epoch 38/100\n",
      "23/23 [==============================] - 0s 6ms/step - loss: 0.3038 - accuracy: 0.8678\n",
      "Epoch 39/100\n",
      "23/23 [==============================] - 0s 7ms/step - loss: 0.3019 - accuracy: 0.8733\n",
      "Epoch 40/100\n",
      "23/23 [==============================] - 0s 4ms/step - loss: 0.3006 - accuracy: 0.8747\n",
      "Epoch 41/100\n",
      "23/23 [==============================] - 0s 4ms/step - loss: 0.2985 - accuracy: 0.8747\n",
      "Epoch 42/100\n",
      "23/23 [==============================] - 0s 4ms/step - loss: 0.2992 - accuracy: 0.8760\n",
      "Epoch 43/100\n",
      "23/23 [==============================] - 0s 5ms/step - loss: 0.2959 - accuracy: 0.8774\n",
      "Epoch 44/100\n",
      "23/23 [==============================] - 0s 3ms/step - loss: 0.2948 - accuracy: 0.8760\n",
      "Epoch 45/100\n",
      "23/23 [==============================] - 0s 5ms/step - loss: 0.2936 - accuracy: 0.8774\n",
      "Epoch 46/100\n",
      "23/23 [==============================] - 0s 5ms/step - loss: 0.2910 - accuracy: 0.8774\n",
      "Epoch 47/100\n",
      "23/23 [==============================] - 0s 4ms/step - loss: 0.2897 - accuracy: 0.8774\n",
      "Epoch 48/100\n",
      "23/23 [==============================] - 0s 4ms/step - loss: 0.2882 - accuracy: 0.8801\n",
      "Epoch 49/100\n",
      "23/23 [==============================] - 0s 8ms/step - loss: 0.2872 - accuracy: 0.8856\n",
      "Epoch 50/100\n",
      "23/23 [==============================] - 0s 7ms/step - loss: 0.2853 - accuracy: 0.8869\n",
      "Epoch 51/100\n",
      "23/23 [==============================] - 0s 4ms/step - loss: 0.2855 - accuracy: 0.8801\n",
      "Epoch 52/100\n",
      "23/23 [==============================] - 0s 4ms/step - loss: 0.2838 - accuracy: 0.8828\n",
      "Epoch 53/100\n",
      "23/23 [==============================] - 0s 6ms/step - loss: 0.2820 - accuracy: 0.8856\n",
      "Epoch 54/100\n",
      "23/23 [==============================] - 0s 5ms/step - loss: 0.2801 - accuracy: 0.8869\n",
      "Epoch 55/100\n",
      "23/23 [==============================] - 0s 4ms/step - loss: 0.2802 - accuracy: 0.8869\n",
      "Epoch 56/100\n",
      "23/23 [==============================] - 0s 3ms/step - loss: 0.2785 - accuracy: 0.8896\n",
      "Epoch 57/100\n",
      "23/23 [==============================] - 0s 5ms/step - loss: 0.2762 - accuracy: 0.8896\n",
      "Epoch 58/100\n",
      "23/23 [==============================] - 0s 5ms/step - loss: 0.2757 - accuracy: 0.8869\n",
      "Epoch 59/100\n",
      "23/23 [==============================] - 0s 6ms/step - loss: 0.2743 - accuracy: 0.8883\n",
      "Epoch 60/100\n",
      "23/23 [==============================] - 0s 6ms/step - loss: 0.2731 - accuracy: 0.8896\n",
      "Epoch 61/100\n",
      "23/23 [==============================] - 0s 3ms/step - loss: 0.2733 - accuracy: 0.8910\n",
      "Epoch 62/100\n",
      "23/23 [==============================] - 0s 6ms/step - loss: 0.2712 - accuracy: 0.8910\n",
      "Epoch 63/100\n",
      "23/23 [==============================] - 0s 4ms/step - loss: 0.2706 - accuracy: 0.8924\n",
      "Epoch 64/100\n",
      "23/23 [==============================] - 0s 7ms/step - loss: 0.2699 - accuracy: 0.8924\n",
      "Epoch 65/100\n",
      "23/23 [==============================] - 0s 5ms/step - loss: 0.2682 - accuracy: 0.8910\n",
      "Epoch 66/100\n",
      "23/23 [==============================] - 0s 4ms/step - loss: 0.2675 - accuracy: 0.8924\n",
      "Epoch 67/100\n",
      "23/23 [==============================] - 0s 6ms/step - loss: 0.2662 - accuracy: 0.8910\n",
      "Epoch 68/100\n",
      "23/23 [==============================] - 0s 5ms/step - loss: 0.2658 - accuracy: 0.8937\n",
      "Epoch 69/100\n",
      "23/23 [==============================] - 0s 6ms/step - loss: 0.2654 - accuracy: 0.8910\n",
      "Epoch 70/100\n",
      "23/23 [==============================] - 0s 5ms/step - loss: 0.2641 - accuracy: 0.8937\n",
      "Epoch 71/100\n",
      "23/23 [==============================] - 0s 3ms/step - loss: 0.2621 - accuracy: 0.8951\n",
      "Epoch 72/100\n",
      "23/23 [==============================] - 0s 4ms/step - loss: 0.2623 - accuracy: 0.8951\n",
      "Epoch 73/100\n",
      "23/23 [==============================] - 0s 4ms/step - loss: 0.2607 - accuracy: 0.8951\n",
      "Epoch 74/100\n",
      "23/23 [==============================] - 0s 4ms/step - loss: 0.2592 - accuracy: 0.8951\n",
      "Epoch 75/100\n",
      "23/23 [==============================] - 0s 5ms/step - loss: 0.2586 - accuracy: 0.8965\n",
      "Epoch 76/100\n",
      "23/23 [==============================] - 0s 5ms/step - loss: 0.2580 - accuracy: 0.8937\n",
      "Epoch 77/100\n",
      "23/23 [==============================] - 0s 7ms/step - loss: 0.2569 - accuracy: 0.8937\n",
      "Epoch 78/100\n",
      "23/23 [==============================] - 0s 3ms/step - loss: 0.2565 - accuracy: 0.8951\n",
      "Epoch 79/100\n",
      "23/23 [==============================] - 0s 5ms/step - loss: 0.2558 - accuracy: 0.8937\n",
      "Epoch 80/100\n",
      "23/23 [==============================] - 0s 8ms/step - loss: 0.2554 - accuracy: 0.8937\n",
      "Epoch 81/100\n",
      "23/23 [==============================] - 0s 6ms/step - loss: 0.2543 - accuracy: 0.8965\n",
      "Epoch 82/100\n",
      "23/23 [==============================] - 0s 4ms/step - loss: 0.2532 - accuracy: 0.8965\n",
      "Epoch 83/100\n"
     ]
    },
    {
     "name": "stdout",
     "output_type": "stream",
     "text": [
      "23/23 [==============================] - 0s 5ms/step - loss: 0.2531 - accuracy: 0.8951\n",
      "Epoch 84/100\n",
      "23/23 [==============================] - 0s 4ms/step - loss: 0.2521 - accuracy: 0.8978\n",
      "Epoch 85/100\n",
      "23/23 [==============================] - 0s 4ms/step - loss: 0.2516 - accuracy: 0.8965\n",
      "Epoch 86/100\n",
      "23/23 [==============================] - 0s 6ms/step - loss: 0.2513 - accuracy: 0.8978\n",
      "Epoch 87/100\n",
      "23/23 [==============================] - 0s 5ms/step - loss: 0.2499 - accuracy: 0.8965\n",
      "Epoch 88/100\n",
      "23/23 [==============================] - 0s 3ms/step - loss: 0.2493 - accuracy: 0.8965\n",
      "Epoch 89/100\n",
      "23/23 [==============================] - 0s 6ms/step - loss: 0.2484 - accuracy: 0.8978\n",
      "Epoch 90/100\n",
      "23/23 [==============================] - 0s 4ms/step - loss: 0.2482 - accuracy: 0.8992\n",
      "Epoch 91/100\n",
      "23/23 [==============================] - 0s 4ms/step - loss: 0.2490 - accuracy: 0.8978\n",
      "Epoch 92/100\n",
      "23/23 [==============================] - 0s 5ms/step - loss: 0.2472 - accuracy: 0.8992\n",
      "Epoch 93/100\n",
      "23/23 [==============================] - 0s 6ms/step - loss: 0.2464 - accuracy: 0.8992\n",
      "Epoch 94/100\n",
      "23/23 [==============================] - 0s 4ms/step - loss: 0.2455 - accuracy: 0.8992\n",
      "Epoch 95/100\n",
      "23/23 [==============================] - 0s 4ms/step - loss: 0.2449 - accuracy: 0.8992\n",
      "Epoch 96/100\n",
      "23/23 [==============================] - 0s 4ms/step - loss: 0.2446 - accuracy: 0.8978\n",
      "Epoch 97/100\n",
      "23/23 [==============================] - 0s 4ms/step - loss: 0.2439 - accuracy: 0.8992\n",
      "Epoch 98/100\n",
      "23/23 [==============================] - 0s 5ms/step - loss: 0.2435 - accuracy: 0.8978\n",
      "Epoch 99/100\n",
      "23/23 [==============================] - 0s 5ms/step - loss: 0.2426 - accuracy: 0.9019\n",
      "Epoch 100/100\n",
      "23/23 [==============================] - 0s 4ms/step - loss: 0.2413 - accuracy: 0.9033\n"
     ]
    },
    {
     "data": {
      "text/plain": [
       "<keras.callbacks.History at 0x225b15cf2e0>"
      ]
     },
     "execution_count": 59,
     "metadata": {},
     "output_type": "execute_result"
    }
   ],
   "source": [
    "model = Sequential()\n",
    "\n",
    "model.add(Dense(8, activation=\"relu\", input_dim = 11))\n",
    "model.add(Dense(16, activation=\"relu\"))\n",
    "model.add(Dense(8, activation=\"relu\"))\n",
    "model.add(Dense(1, activation=\"sigmoid\"))\n",
    "model.compile(Adam(learning_rate=0.001), loss = \"binary_crossentropy\", metrics=[\"accuracy\"])\n",
    "model.fit(X_train, y_train, epochs=100)"
   ]
  },
  {
   "cell_type": "code",
   "execution_count": 60,
   "id": "3c87b386",
   "metadata": {},
   "outputs": [
    {
     "name": "stdout",
     "output_type": "stream",
     "text": [
      "6/6 [==============================] - 0s 6ms/step - loss: 0.3558 - accuracy: 0.8859\n"
     ]
    }
   ],
   "source": [
    "acc,loss = model.evaluate(X_test,y_test)\n"
   ]
  },
  {
   "cell_type": "code",
   "execution_count": 63,
   "id": "1941e638",
   "metadata": {},
   "outputs": [],
   "source": [
    "modeljson = model.to_json()\n",
    "obj=open(\"D:/Datasets/HeartDisease.json\",\"w\")\n",
    "obj.write(modeljson)\n",
    "obj.close()\n",
    "model.save_weights(\"D:/Datasets/HeartDisease.h5\")"
   ]
  },
  {
   "cell_type": "code",
   "execution_count": null,
   "id": "4bc21434",
   "metadata": {},
   "outputs": [],
   "source": []
  },
  {
   "cell_type": "code",
   "execution_count": null,
   "id": "2687afea",
   "metadata": {},
   "outputs": [],
   "source": []
  },
  {
   "cell_type": "code",
   "execution_count": null,
   "id": "84c25a57",
   "metadata": {},
   "outputs": [],
   "source": []
  },
  {
   "cell_type": "markdown",
   "id": "0e7aa3fe",
   "metadata": {},
   "source": [
    "."
   ]
  },
  {
   "cell_type": "markdown",
   "id": "cf453292",
   "metadata": {},
   "source": [
    "# DIABETES"
   ]
  },
  {
   "cell_type": "code",
   "execution_count": 64,
   "id": "25414d06",
   "metadata": {},
   "outputs": [],
   "source": [
    "df=pd.read_csv('E:/Downloads/disease detection/diabetes.csv')"
   ]
  },
  {
   "cell_type": "code",
   "execution_count": 65,
   "id": "c2acc86f",
   "metadata": {},
   "outputs": [
    {
     "data": {
      "text/html": [
       "<div>\n",
       "<style scoped>\n",
       "    .dataframe tbody tr th:only-of-type {\n",
       "        vertical-align: middle;\n",
       "    }\n",
       "\n",
       "    .dataframe tbody tr th {\n",
       "        vertical-align: top;\n",
       "    }\n",
       "\n",
       "    .dataframe thead th {\n",
       "        text-align: right;\n",
       "    }\n",
       "</style>\n",
       "<table border=\"1\" class=\"dataframe\">\n",
       "  <thead>\n",
       "    <tr style=\"text-align: right;\">\n",
       "      <th></th>\n",
       "      <th>Pregnancies</th>\n",
       "      <th>Glucose</th>\n",
       "      <th>BloodPressure</th>\n",
       "      <th>SkinThickness</th>\n",
       "      <th>Insulin</th>\n",
       "      <th>BMI</th>\n",
       "      <th>DiabetesPedigreeFunction</th>\n",
       "      <th>Age</th>\n",
       "      <th>Outcome</th>\n",
       "    </tr>\n",
       "  </thead>\n",
       "  <tbody>\n",
       "    <tr>\n",
       "      <th>0</th>\n",
       "      <td>6</td>\n",
       "      <td>148</td>\n",
       "      <td>72</td>\n",
       "      <td>35</td>\n",
       "      <td>0</td>\n",
       "      <td>33.6</td>\n",
       "      <td>0.627</td>\n",
       "      <td>50</td>\n",
       "      <td>1</td>\n",
       "    </tr>\n",
       "    <tr>\n",
       "      <th>1</th>\n",
       "      <td>1</td>\n",
       "      <td>85</td>\n",
       "      <td>66</td>\n",
       "      <td>29</td>\n",
       "      <td>0</td>\n",
       "      <td>26.6</td>\n",
       "      <td>0.351</td>\n",
       "      <td>31</td>\n",
       "      <td>0</td>\n",
       "    </tr>\n",
       "    <tr>\n",
       "      <th>2</th>\n",
       "      <td>8</td>\n",
       "      <td>183</td>\n",
       "      <td>64</td>\n",
       "      <td>0</td>\n",
       "      <td>0</td>\n",
       "      <td>23.3</td>\n",
       "      <td>0.672</td>\n",
       "      <td>32</td>\n",
       "      <td>1</td>\n",
       "    </tr>\n",
       "    <tr>\n",
       "      <th>3</th>\n",
       "      <td>1</td>\n",
       "      <td>89</td>\n",
       "      <td>66</td>\n",
       "      <td>23</td>\n",
       "      <td>94</td>\n",
       "      <td>28.1</td>\n",
       "      <td>0.167</td>\n",
       "      <td>21</td>\n",
       "      <td>0</td>\n",
       "    </tr>\n",
       "    <tr>\n",
       "      <th>4</th>\n",
       "      <td>0</td>\n",
       "      <td>137</td>\n",
       "      <td>40</td>\n",
       "      <td>35</td>\n",
       "      <td>168</td>\n",
       "      <td>43.1</td>\n",
       "      <td>2.288</td>\n",
       "      <td>33</td>\n",
       "      <td>1</td>\n",
       "    </tr>\n",
       "  </tbody>\n",
       "</table>\n",
       "</div>"
      ],
      "text/plain": [
       "   Pregnancies  Glucose  BloodPressure  SkinThickness  Insulin   BMI  \\\n",
       "0            6      148             72             35        0  33.6   \n",
       "1            1       85             66             29        0  26.6   \n",
       "2            8      183             64              0        0  23.3   \n",
       "3            1       89             66             23       94  28.1   \n",
       "4            0      137             40             35      168  43.1   \n",
       "\n",
       "   DiabetesPedigreeFunction  Age  Outcome  \n",
       "0                     0.627   50        1  \n",
       "1                     0.351   31        0  \n",
       "2                     0.672   32        1  \n",
       "3                     0.167   21        0  \n",
       "4                     2.288   33        1  "
      ]
     },
     "execution_count": 65,
     "metadata": {},
     "output_type": "execute_result"
    }
   ],
   "source": [
    "df.head()"
   ]
  },
  {
   "cell_type": "code",
   "execution_count": 66,
   "id": "64424875",
   "metadata": {},
   "outputs": [],
   "source": [
    "X = df[[\"Pregnancies\", \"Glucose\", \"BloodPressure\", \"SkinThickness\", \"Insulin\", \"BMI\", \"DiabetesPedigreeFunction\", \"Age\"]].values\n",
    "Y = df[\"Outcome\"].values"
   ]
  },
  {
   "cell_type": "code",
   "execution_count": 67,
   "id": "84bb7367",
   "metadata": {},
   "outputs": [],
   "source": [
    "X=preprocessing.StandardScaler().fit(X).transform(X.astype(float))"
   ]
  },
  {
   "cell_type": "code",
   "execution_count": 68,
   "id": "d6a4ed8b",
   "metadata": {},
   "outputs": [
    {
     "name": "stdout",
     "output_type": "stream",
     "text": [
      "Train set: (614, 8) (614,)\n",
      "Test set: (154, 8) (154,)\n"
     ]
    }
   ],
   "source": [
    "from sklearn.model_selection import train_test_split\n",
    "X_train, X_test, y_train, y_test = train_test_split( X, Y, test_size=0.2, random_state=4)\n",
    "print ('Train set:', X_train.shape,  y_train.shape)\n",
    "print ('Test set:', X_test.shape,  y_test.shape)"
   ]
  },
  {
   "cell_type": "markdown",
   "id": "244e0433",
   "metadata": {},
   "source": [
    "KNN"
   ]
  },
  {
   "cell_type": "code",
   "execution_count": 39,
   "id": "9ae0b441",
   "metadata": {},
   "outputs": [],
   "source": [
    "k=2\n",
    "neigh1=KNeighborsClassifier(n_neighbors=k).fit(X_train,y_train)\n",
    "yhat=neigh1.predict(X_test)"
   ]
  },
  {
   "cell_type": "code",
   "execution_count": 40,
   "id": "edb3d7c9",
   "metadata": {},
   "outputs": [
    {
     "name": "stdout",
     "output_type": "stream",
     "text": [
      "Train set Accuracy:  0.8436482084690554\n",
      "Test set Accuracy:  0.7142857142857143\n"
     ]
    }
   ],
   "source": [
    "from sklearn import metrics\n",
    "print(\"Train set Accuracy: \", metrics.accuracy_score(y_train, neigh1.predict(X_train)))\n",
    "print(\"Test set Accuracy: \", metrics.accuracy_score(y_test, yhat))"
   ]
  },
  {
   "cell_type": "code",
   "execution_count": 41,
   "id": "691f3e8a",
   "metadata": {},
   "outputs": [],
   "source": [
    "import pickle\n",
    "\n",
    "knnPickle1 = open('Diabetes', 'wb') \n",
    "pickle.dump(neigh, knnPickle1)\n",
    "knnPickle1.close()\n"
   ]
  },
  {
   "cell_type": "code",
   "execution_count": 44,
   "id": "ba67ee6c",
   "metadata": {},
   "outputs": [
    {
     "name": "stdout",
     "output_type": "stream",
     "text": [
      "Test set Accuracy:  0.7142857142857143\n"
     ]
    }
   ],
   "source": [
    "loaded_model1 = pickle.load(open('Diabetes', 'rb'))\n",
    "result1 = loaded_model1.predict(X_test) \n",
    "print(\"Test set Accuracy: \", metrics.accuracy_score(y_test, result1))"
   ]
  },
  {
   "cell_type": "markdown",
   "id": "2d74b190",
   "metadata": {},
   "source": [
    "ANN"
   ]
  },
  {
   "cell_type": "code",
   "execution_count": 83,
   "id": "4c916dfb",
   "metadata": {},
   "outputs": [
    {
     "name": "stdout",
     "output_type": "stream",
     "text": [
      "Epoch 1/100\n",
      "20/20 [==============================] - 1s 4ms/step - loss: 0.6134 - accuracy: 0.6401\n",
      "Epoch 2/100\n",
      "20/20 [==============================] - 0s 4ms/step - loss: 0.5370 - accuracy: 0.6889\n",
      "Epoch 3/100\n",
      "20/20 [==============================] - 0s 3ms/step - loss: 0.4963 - accuracy: 0.7508\n",
      "Epoch 4/100\n",
      "20/20 [==============================] - 0s 6ms/step - loss: 0.4823 - accuracy: 0.7541\n",
      "Epoch 5/100\n",
      "20/20 [==============================] - 0s 6ms/step - loss: 0.4749 - accuracy: 0.7638\n",
      "Epoch 6/100\n",
      "20/20 [==============================] - 0s 3ms/step - loss: 0.4682 - accuracy: 0.7704\n",
      "Epoch 7/100\n",
      "20/20 [==============================] - 0s 5ms/step - loss: 0.4675 - accuracy: 0.7606\n",
      "Epoch 8/100\n",
      "20/20 [==============================] - 0s 4ms/step - loss: 0.4620 - accuracy: 0.7720\n",
      "Epoch 9/100\n",
      "20/20 [==============================] - 0s 7ms/step - loss: 0.4609 - accuracy: 0.7736\n",
      "Epoch 10/100\n",
      "20/20 [==============================] - 0s 6ms/step - loss: 0.4537 - accuracy: 0.7752\n",
      "Epoch 11/100\n",
      "20/20 [==============================] - 0s 5ms/step - loss: 0.4591 - accuracy: 0.7687\n",
      "Epoch 12/100\n",
      "20/20 [==============================] - 0s 3ms/step - loss: 0.4525 - accuracy: 0.7752\n",
      "Epoch 13/100\n",
      "20/20 [==============================] - 0s 5ms/step - loss: 0.4531 - accuracy: 0.7769\n",
      "Epoch 14/100\n",
      "20/20 [==============================] - 0s 2ms/step - loss: 0.4540 - accuracy: 0.7769\n",
      "Epoch 15/100\n",
      "20/20 [==============================] - 0s 4ms/step - loss: 0.4492 - accuracy: 0.7818\n",
      "Epoch 16/100\n",
      "20/20 [==============================] - 0s 5ms/step - loss: 0.4470 - accuracy: 0.7834\n",
      "Epoch 17/100\n",
      "20/20 [==============================] - 0s 3ms/step - loss: 0.4464 - accuracy: 0.7818\n",
      "Epoch 18/100\n",
      "20/20 [==============================] - 0s 6ms/step - loss: 0.4486 - accuracy: 0.7818\n",
      "Epoch 19/100\n",
      "20/20 [==============================] - 0s 6ms/step - loss: 0.4434 - accuracy: 0.7834\n",
      "Epoch 20/100\n",
      "20/20 [==============================] - 0s 7ms/step - loss: 0.4428 - accuracy: 0.7850\n",
      "Epoch 21/100\n",
      "20/20 [==============================] - 0s 8ms/step - loss: 0.4415 - accuracy: 0.7866\n",
      "Epoch 22/100\n",
      "20/20 [==============================] - 0s 4ms/step - loss: 0.4418 - accuracy: 0.7866\n",
      "Epoch 23/100\n",
      "20/20 [==============================] - 0s 3ms/step - loss: 0.4390 - accuracy: 0.7834\n",
      "Epoch 24/100\n",
      "20/20 [==============================] - 0s 3ms/step - loss: 0.4379 - accuracy: 0.7883\n",
      "Epoch 25/100\n",
      "20/20 [==============================] - 0s 3ms/step - loss: 0.4361 - accuracy: 0.7899\n",
      "Epoch 26/100\n",
      "20/20 [==============================] - 0s 5ms/step - loss: 0.4372 - accuracy: 0.7899\n",
      "Epoch 27/100\n",
      "20/20 [==============================] - 0s 4ms/step - loss: 0.4378 - accuracy: 0.7899\n",
      "Epoch 28/100\n",
      "20/20 [==============================] - 0s 4ms/step - loss: 0.4414 - accuracy: 0.7883\n",
      "Epoch 29/100\n",
      "20/20 [==============================] - 0s 3ms/step - loss: 0.4384 - accuracy: 0.7883\n",
      "Epoch 30/100\n",
      "20/20 [==============================] - 0s 7ms/step - loss: 0.4492 - accuracy: 0.7850\n",
      "Epoch 31/100\n",
      "20/20 [==============================] - 0s 5ms/step - loss: 0.4310 - accuracy: 0.7948\n",
      "Epoch 32/100\n",
      "20/20 [==============================] - 0s 8ms/step - loss: 0.4299 - accuracy: 0.7980\n",
      "Epoch 33/100\n",
      "20/20 [==============================] - 0s 7ms/step - loss: 0.4313 - accuracy: 0.8029\n",
      "Epoch 34/100\n",
      "20/20 [==============================] - 0s 4ms/step - loss: 0.4311 - accuracy: 0.8029\n",
      "Epoch 35/100\n",
      "20/20 [==============================] - 0s 3ms/step - loss: 0.4239 - accuracy: 0.7964\n",
      "Epoch 36/100\n",
      "20/20 [==============================] - 0s 4ms/step - loss: 0.4253 - accuracy: 0.7980\n",
      "Epoch 37/100\n",
      "20/20 [==============================] - 0s 4ms/step - loss: 0.4222 - accuracy: 0.8013\n",
      "Epoch 38/100\n",
      "20/20 [==============================] - 0s 5ms/step - loss: 0.4201 - accuracy: 0.7964\n",
      "Epoch 39/100\n",
      "20/20 [==============================] - 0s 5ms/step - loss: 0.4197 - accuracy: 0.8094\n",
      "Epoch 40/100\n",
      "20/20 [==============================] - 0s 5ms/step - loss: 0.4180 - accuracy: 0.8094\n",
      "Epoch 41/100\n",
      "20/20 [==============================] - 0s 6ms/step - loss: 0.4197 - accuracy: 0.8046\n",
      "Epoch 42/100\n",
      "20/20 [==============================] - 0s 3ms/step - loss: 0.4221 - accuracy: 0.8046\n",
      "Epoch 43/100\n",
      "20/20 [==============================] - 0s 8ms/step - loss: 0.4177 - accuracy: 0.8013\n",
      "Epoch 44/100\n",
      "20/20 [==============================] - 0s 7ms/step - loss: 0.4182 - accuracy: 0.8094\n",
      "Epoch 45/100\n",
      "20/20 [==============================] - 0s 6ms/step - loss: 0.4137 - accuracy: 0.8062\n",
      "Epoch 46/100\n",
      "20/20 [==============================] - 0s 8ms/step - loss: 0.4161 - accuracy: 0.8046\n",
      "Epoch 47/100\n",
      "20/20 [==============================] - 0s 6ms/step - loss: 0.4124 - accuracy: 0.8094\n",
      "Epoch 48/100\n",
      "20/20 [==============================] - 0s 4ms/step - loss: 0.4167 - accuracy: 0.8094\n",
      "Epoch 49/100\n",
      "20/20 [==============================] - 0s 4ms/step - loss: 0.4201 - accuracy: 0.8046\n",
      "Epoch 50/100\n",
      "20/20 [==============================] - 0s 5ms/step - loss: 0.4160 - accuracy: 0.8062\n",
      "Epoch 51/100\n",
      "20/20 [==============================] - 0s 4ms/step - loss: 0.4133 - accuracy: 0.8127\n",
      "Epoch 52/100\n",
      "20/20 [==============================] - 0s 5ms/step - loss: 0.4077 - accuracy: 0.8208\n",
      "Epoch 53/100\n",
      "20/20 [==============================] - 0s 5ms/step - loss: 0.4141 - accuracy: 0.8127\n",
      "Epoch 54/100\n",
      "20/20 [==============================] - 0s 4ms/step - loss: 0.4051 - accuracy: 0.8192\n",
      "Epoch 55/100\n",
      "20/20 [==============================] - 0s 6ms/step - loss: 0.4056 - accuracy: 0.8094\n",
      "Epoch 56/100\n",
      "20/20 [==============================] - 0s 7ms/step - loss: 0.4046 - accuracy: 0.8176\n",
      "Epoch 57/100\n",
      "20/20 [==============================] - 0s 4ms/step - loss: 0.4089 - accuracy: 0.8143\n",
      "Epoch 58/100\n",
      "20/20 [==============================] - 0s 6ms/step - loss: 0.4095 - accuracy: 0.8094\n",
      "Epoch 59/100\n",
      "20/20 [==============================] - 0s 4ms/step - loss: 0.4112 - accuracy: 0.8143\n",
      "Epoch 60/100\n",
      "20/20 [==============================] - 0s 6ms/step - loss: 0.4051 - accuracy: 0.8094\n",
      "Epoch 61/100\n",
      "20/20 [==============================] - 0s 4ms/step - loss: 0.4188 - accuracy: 0.8078\n",
      "Epoch 62/100\n",
      "20/20 [==============================] - 0s 9ms/step - loss: 0.4045 - accuracy: 0.8078\n",
      "Epoch 63/100\n",
      "20/20 [==============================] - 0s 8ms/step - loss: 0.4064 - accuracy: 0.8160\n",
      "Epoch 64/100\n",
      "20/20 [==============================] - 0s 3ms/step - loss: 0.4012 - accuracy: 0.8143\n",
      "Epoch 65/100\n",
      "20/20 [==============================] - 0s 6ms/step - loss: 0.4015 - accuracy: 0.8176\n",
      "Epoch 66/100\n",
      "20/20 [==============================] - 0s 4ms/step - loss: 0.4073 - accuracy: 0.8160\n",
      "Epoch 67/100\n",
      "20/20 [==============================] - 0s 2ms/step - loss: 0.4107 - accuracy: 0.8029\n",
      "Epoch 68/100\n",
      "20/20 [==============================] - 0s 3ms/step - loss: 0.4048 - accuracy: 0.8160\n",
      "Epoch 69/100\n",
      "20/20 [==============================] - 0s 5ms/step - loss: 0.4049 - accuracy: 0.8241\n",
      "Epoch 70/100\n",
      "20/20 [==============================] - 0s 5ms/step - loss: 0.4038 - accuracy: 0.8176\n",
      "Epoch 71/100\n",
      "20/20 [==============================] - 0s 4ms/step - loss: 0.4159 - accuracy: 0.8208\n",
      "Epoch 72/100\n",
      "20/20 [==============================] - 0s 2ms/step - loss: 0.4196 - accuracy: 0.8094\n",
      "Epoch 73/100\n",
      "20/20 [==============================] - 0s 4ms/step - loss: 0.4164 - accuracy: 0.8111\n",
      "Epoch 74/100\n",
      "20/20 [==============================] - 0s 6ms/step - loss: 0.4078 - accuracy: 0.8062\n",
      "Epoch 75/100\n",
      "20/20 [==============================] - 0s 5ms/step - loss: 0.3974 - accuracy: 0.8274\n",
      "Epoch 76/100\n",
      "20/20 [==============================] - 0s 5ms/step - loss: 0.3977 - accuracy: 0.8241\n",
      "Epoch 77/100\n",
      "20/20 [==============================] - 0s 5ms/step - loss: 0.3973 - accuracy: 0.8274\n",
      "Epoch 78/100\n",
      "20/20 [==============================] - ETA: 0s - loss: 0.3848 - accuracy: 0.84 - 0s 8ms/step - loss: 0.4195 - accuracy: 0.8094\n",
      "Epoch 79/100\n",
      "20/20 [==============================] - 0s 2ms/step - loss: 0.4116 - accuracy: 0.8176\n",
      "Epoch 80/100\n",
      "20/20 [==============================] - 0s 4ms/step - loss: 0.3958 - accuracy: 0.8111\n",
      "Epoch 81/100\n",
      "20/20 [==============================] - 0s 4ms/step - loss: 0.3941 - accuracy: 0.8306\n",
      "Epoch 82/100\n",
      "20/20 [==============================] - 0s 5ms/step - loss: 0.3961 - accuracy: 0.8208\n",
      "Epoch 83/100\n",
      "20/20 [==============================] - 0s 4ms/step - loss: 0.3898 - accuracy: 0.8176\n",
      "Epoch 84/100\n",
      "20/20 [==============================] - 0s 4ms/step - loss: 0.3929 - accuracy: 0.8176\n",
      "Epoch 85/100\n",
      "20/20 [==============================] - 0s 6ms/step - loss: 0.4050 - accuracy: 0.8143\n",
      "Epoch 86/100\n",
      "20/20 [==============================] - 0s 5ms/step - loss: 0.3967 - accuracy: 0.8160\n",
      "Epoch 87/100\n",
      "20/20 [==============================] - 0s 7ms/step - loss: 0.3934 - accuracy: 0.8241\n",
      "Epoch 88/100\n",
      "20/20 [==============================] - 0s 4ms/step - loss: 0.3923 - accuracy: 0.8225\n",
      "Epoch 89/100\n",
      "20/20 [==============================] - 0s 6ms/step - loss: 0.3921 - accuracy: 0.8306\n",
      "Epoch 90/100\n",
      "20/20 [==============================] - 0s 6ms/step - loss: 0.3881 - accuracy: 0.8290\n",
      "Epoch 91/100\n",
      "20/20 [==============================] - 0s 3ms/step - loss: 0.3943 - accuracy: 0.8225\n",
      "Epoch 92/100\n",
      "20/20 [==============================] - 0s 7ms/step - loss: 0.3927 - accuracy: 0.8241\n",
      "Epoch 93/100\n",
      "20/20 [==============================] - 0s 5ms/step - loss: 0.3938 - accuracy: 0.8208\n",
      "Epoch 94/100\n",
      "20/20 [==============================] - 0s 3ms/step - loss: 0.3932 - accuracy: 0.8208\n",
      "Epoch 95/100\n",
      "20/20 [==============================] - 0s 3ms/step - loss: 0.3946 - accuracy: 0.8290\n",
      "Epoch 96/100\n",
      "20/20 [==============================] - 0s 4ms/step - loss: 0.3845 - accuracy: 0.8306\n",
      "Epoch 97/100\n",
      "20/20 [==============================] - 0s 8ms/step - loss: 0.3879 - accuracy: 0.8257\n",
      "Epoch 98/100\n",
      "20/20 [==============================] - 0s 8ms/step - loss: 0.3938 - accuracy: 0.8143\n",
      "Epoch 99/100\n",
      "20/20 [==============================] - 0s 8ms/step - loss: 0.3895 - accuracy: 0.8257\n",
      "Epoch 100/100\n",
      "20/20 [==============================] - 0s 7ms/step - loss: 0.3892 - accuracy: 0.8257\n"
     ]
    },
    {
     "data": {
      "text/plain": [
       "<keras.callbacks.History at 0x225ba49cf70>"
      ]
     },
     "execution_count": 83,
     "metadata": {},
     "output_type": "execute_result"
    }
   ],
   "source": [
    "model = Sequential()\n",
    "\n",
    "model.add(Dense(4, activation=\"relu\", input_dim = 8))\n",
    "model.add(Dense(8, activation=\"relu\"))\n",
    "model.add(Dense(4, activation=\"relu\"))\n",
    "model.add(Dense(1, activation=\"sigmoid\"))\n",
    "model.compile(Adam(learning_rate=0.01), loss = \"binary_crossentropy\", metrics=[\"accuracy\"])\n",
    "model.fit(X_train, y_train, epochs=100)"
   ]
  },
  {
   "cell_type": "code",
   "execution_count": 84,
   "id": "2f008825",
   "metadata": {},
   "outputs": [
    {
     "name": "stdout",
     "output_type": "stream",
     "text": [
      "5/5 [==============================] - 0s 7ms/step - loss: 0.6493 - accuracy: 0.7597\n"
     ]
    }
   ],
   "source": [
    "acc,loss = model.evaluate(X_test,y_test)"
   ]
  },
  {
   "cell_type": "code",
   "execution_count": 85,
   "id": "4a8b841d",
   "metadata": {},
   "outputs": [],
   "source": [
    "modeljson = model.to_json()\n",
    "obj=open(\"D:/Datasets/Diabetes.json\",\"w\")\n",
    "obj.write(modeljson)\n",
    "obj.close()\n",
    "model.save_weights(\"D:/Datasets/Diabetes.h5\")"
   ]
  },
  {
   "cell_type": "code",
   "execution_count": null,
   "id": "221ce4ee",
   "metadata": {},
   "outputs": [],
   "source": []
  },
  {
   "cell_type": "code",
   "execution_count": null,
   "id": "aaf5411d",
   "metadata": {},
   "outputs": [],
   "source": []
  },
  {
   "cell_type": "markdown",
   "id": "9737ba41",
   "metadata": {},
   "source": [
    "."
   ]
  },
  {
   "cell_type": "markdown",
   "id": "08008527",
   "metadata": {},
   "source": [
    "# STROKE"
   ]
  },
  {
   "cell_type": "code",
   "execution_count": 86,
   "id": "8fcc6fe8",
   "metadata": {},
   "outputs": [],
   "source": [
    "df=pd.read_csv('E:/Downloads/disease detection/stroke.csv')"
   ]
  },
  {
   "cell_type": "code",
   "execution_count": 87,
   "id": "9dfee589",
   "metadata": {},
   "outputs": [
    {
     "data": {
      "text/html": [
       "<div>\n",
       "<style scoped>\n",
       "    .dataframe tbody tr th:only-of-type {\n",
       "        vertical-align: middle;\n",
       "    }\n",
       "\n",
       "    .dataframe tbody tr th {\n",
       "        vertical-align: top;\n",
       "    }\n",
       "\n",
       "    .dataframe thead th {\n",
       "        text-align: right;\n",
       "    }\n",
       "</style>\n",
       "<table border=\"1\" class=\"dataframe\">\n",
       "  <thead>\n",
       "    <tr style=\"text-align: right;\">\n",
       "      <th></th>\n",
       "      <th>id</th>\n",
       "      <th>gender</th>\n",
       "      <th>age</th>\n",
       "      <th>hypertension</th>\n",
       "      <th>heart_disease</th>\n",
       "      <th>ever_married</th>\n",
       "      <th>work_type</th>\n",
       "      <th>Residence_type</th>\n",
       "      <th>avg_glucose_level</th>\n",
       "      <th>bmi</th>\n",
       "      <th>smoking_status</th>\n",
       "      <th>stroke</th>\n",
       "    </tr>\n",
       "  </thead>\n",
       "  <tbody>\n",
       "    <tr>\n",
       "      <th>0</th>\n",
       "      <td>9046</td>\n",
       "      <td>Male</td>\n",
       "      <td>67.0</td>\n",
       "      <td>0</td>\n",
       "      <td>1</td>\n",
       "      <td>Yes</td>\n",
       "      <td>Private</td>\n",
       "      <td>Urban</td>\n",
       "      <td>228.69</td>\n",
       "      <td>36.6</td>\n",
       "      <td>formerly smoked</td>\n",
       "      <td>1</td>\n",
       "    </tr>\n",
       "    <tr>\n",
       "      <th>1</th>\n",
       "      <td>51676</td>\n",
       "      <td>Female</td>\n",
       "      <td>61.0</td>\n",
       "      <td>0</td>\n",
       "      <td>0</td>\n",
       "      <td>Yes</td>\n",
       "      <td>Self-employed</td>\n",
       "      <td>Rural</td>\n",
       "      <td>202.21</td>\n",
       "      <td>NaN</td>\n",
       "      <td>never smoked</td>\n",
       "      <td>1</td>\n",
       "    </tr>\n",
       "    <tr>\n",
       "      <th>2</th>\n",
       "      <td>31112</td>\n",
       "      <td>Male</td>\n",
       "      <td>80.0</td>\n",
       "      <td>0</td>\n",
       "      <td>1</td>\n",
       "      <td>Yes</td>\n",
       "      <td>Private</td>\n",
       "      <td>Rural</td>\n",
       "      <td>105.92</td>\n",
       "      <td>32.5</td>\n",
       "      <td>never smoked</td>\n",
       "      <td>1</td>\n",
       "    </tr>\n",
       "    <tr>\n",
       "      <th>3</th>\n",
       "      <td>60182</td>\n",
       "      <td>Female</td>\n",
       "      <td>49.0</td>\n",
       "      <td>0</td>\n",
       "      <td>0</td>\n",
       "      <td>Yes</td>\n",
       "      <td>Private</td>\n",
       "      <td>Urban</td>\n",
       "      <td>171.23</td>\n",
       "      <td>34.4</td>\n",
       "      <td>smokes</td>\n",
       "      <td>1</td>\n",
       "    </tr>\n",
       "    <tr>\n",
       "      <th>4</th>\n",
       "      <td>1665</td>\n",
       "      <td>Female</td>\n",
       "      <td>79.0</td>\n",
       "      <td>1</td>\n",
       "      <td>0</td>\n",
       "      <td>Yes</td>\n",
       "      <td>Self-employed</td>\n",
       "      <td>Rural</td>\n",
       "      <td>174.12</td>\n",
       "      <td>24.0</td>\n",
       "      <td>never smoked</td>\n",
       "      <td>1</td>\n",
       "    </tr>\n",
       "  </tbody>\n",
       "</table>\n",
       "</div>"
      ],
      "text/plain": [
       "      id  gender   age  hypertension  heart_disease ever_married  \\\n",
       "0   9046    Male  67.0             0              1          Yes   \n",
       "1  51676  Female  61.0             0              0          Yes   \n",
       "2  31112    Male  80.0             0              1          Yes   \n",
       "3  60182  Female  49.0             0              0          Yes   \n",
       "4   1665  Female  79.0             1              0          Yes   \n",
       "\n",
       "       work_type Residence_type  avg_glucose_level   bmi   smoking_status  \\\n",
       "0        Private          Urban             228.69  36.6  formerly smoked   \n",
       "1  Self-employed          Rural             202.21   NaN     never smoked   \n",
       "2        Private          Rural             105.92  32.5     never smoked   \n",
       "3        Private          Urban             171.23  34.4           smokes   \n",
       "4  Self-employed          Rural             174.12  24.0     never smoked   \n",
       "\n",
       "   stroke  \n",
       "0       1  \n",
       "1       1  \n",
       "2       1  \n",
       "3       1  \n",
       "4       1  "
      ]
     },
     "execution_count": 87,
     "metadata": {},
     "output_type": "execute_result"
    }
   ],
   "source": [
    "df.head()"
   ]
  },
  {
   "cell_type": "code",
   "execution_count": 74,
   "id": "34e34386",
   "metadata": {},
   "outputs": [
    {
     "data": {
      "text/plain": [
       "id                   5110\n",
       "gender                  3\n",
       "age                   104\n",
       "hypertension            2\n",
       "heart_disease           2\n",
       "ever_married            2\n",
       "work_type               5\n",
       "Residence_type          2\n",
       "avg_glucose_level    3979\n",
       "bmi                   418\n",
       "smoking_status          4\n",
       "stroke                  2\n",
       "dtype: int64"
      ]
     },
     "execution_count": 74,
     "metadata": {},
     "output_type": "execute_result"
    }
   ],
   "source": [
    "df.nunique(axis=0)"
   ]
  },
  {
   "cell_type": "code",
   "execution_count": 75,
   "id": "5b525e54",
   "metadata": {},
   "outputs": [
    {
     "data": {
      "text/plain": [
       "array(['formerly smoked', 'never smoked', 'smokes', 'Unknown'],\n",
       "      dtype=object)"
      ]
     },
     "execution_count": 75,
     "metadata": {},
     "output_type": "execute_result"
    }
   ],
   "source": [
    "df.smoking_status.unique()"
   ]
  },
  {
   "cell_type": "code",
   "execution_count": null,
   "id": "b1c2c99f",
   "metadata": {},
   "outputs": [],
   "source": [
    "gender - Male   0\n",
    "         Female 1\n",
    "         Other  2\n",
    "ever_married - No 0\n",
    "               Yes 1\n",
    "work_type - Private       0\n",
    "            Self_employed 1\n",
    "            Govt_job      2\n",
    "            children      3\n",
    "            Never_worked  4\n",
    "Residence_type - Rural 0\n",
    "                 Urban 1\n",
    "smoking_status - never smoked    0\n",
    "                 formerly smoked 1\n",
    "                 smokes          2 \n",
    "                 Unknown         3"
   ]
  },
  {
   "cell_type": "code",
   "execution_count": 88,
   "id": "4a1ccbd5",
   "metadata": {},
   "outputs": [],
   "source": [
    "for i,j in enumerate(df[\"ever_married\"]):\n",
    "    if j==\"No\":\n",
    "        df[\"ever_married\"][i] = 0\n",
    "    else:\n",
    "        df[\"ever_married\"][i] = 1\n",
    "        \n",
    "for i,j in enumerate(df[\"smoking_status\"]):\n",
    "    if j==\"never smoked\":\n",
    "        df[\"smoking_status\"][i] = 0\n",
    "    elif j==\"formerly smoked\":\n",
    "        df[\"smoking_status\"][i] = 1\n",
    "    elif j==\"smokes\":\n",
    "        df[\"smoking_status\"][i] = 2\n",
    "    else:\n",
    "        df[\"smoking_status\"][i] = 3\n",
    "        \n",
    "for i,j in enumerate(df[\"gender\"]):\n",
    "    if j==\"Male\":\n",
    "        df[\"gender\"][i] = 0\n",
    "    elif j==\"Female\":\n",
    "        df[\"gender\"][i] = 1\n",
    "    else:\n",
    "        df[\"gender\"][i] = 2\n",
    "\n",
    "for i,j in enumerate(df[\"work_type\"]):\n",
    "    if j==\"Private\":\n",
    "        df[\"work_type\"][i] = 0\n",
    "    elif j==\"Self_employed\":\n",
    "        df[\"work_type\"][i] = 1\n",
    "    elif j==\"Govt_job\":\n",
    "        df[\"work_type\"][i] = 2\n",
    "    elif j==\"children\":\n",
    "        df[\"work_type\"][i] = 3\n",
    "    else:\n",
    "        df[\"work_type\"][i] = 4\n",
    "        \n",
    "for i,j in enumerate(df[\"Residence_type\"]):\n",
    "    if j==\"Rural\":\n",
    "        df[\"Residence_type\"][i] = 0\n",
    "    else:\n",
    "        df[\"Residence_type\"][i] = 1"
   ]
  },
  {
   "cell_type": "code",
   "execution_count": 77,
   "id": "ec37b435",
   "metadata": {},
   "outputs": [
    {
     "data": {
      "text/plain": [
       "201"
      ]
     },
     "execution_count": 77,
     "metadata": {},
     "output_type": "execute_result"
    }
   ],
   "source": [
    "df[\"bmi\"].isnull().sum()"
   ]
  },
  {
   "cell_type": "code",
   "execution_count": 89,
   "id": "ec193c04",
   "metadata": {},
   "outputs": [],
   "source": [
    "df=df.dropna()"
   ]
  },
  {
   "cell_type": "code",
   "execution_count": 90,
   "id": "a9bcc747",
   "metadata": {},
   "outputs": [],
   "source": [
    "X = df[[\"gender\", \"age\", \"hypertension\", \"heart_disease\", 'ever_married', \"work_type\", \"Residence_type\", \"avg_glucose_level\", \"bmi\", \"smoking_status\"]].values\n",
    "Y = df[\"stroke\"]"
   ]
  },
  {
   "cell_type": "code",
   "execution_count": 91,
   "id": "d1a3e8a4",
   "metadata": {},
   "outputs": [],
   "source": [
    "X=preprocessing.StandardScaler().fit(X).transform(X.astype(float))"
   ]
  },
  {
   "cell_type": "code",
   "execution_count": 92,
   "id": "07268e59",
   "metadata": {},
   "outputs": [
    {
     "name": "stdout",
     "output_type": "stream",
     "text": [
      "Train set: (3927, 10) (3927,)\n",
      "Test set: (982, 10) (982,)\n"
     ]
    }
   ],
   "source": [
    "from sklearn.model_selection import train_test_split\n",
    "X_train, X_test, y_train, y_test = train_test_split( X, Y, test_size=0.2, random_state=4)\n",
    "print ('Train set:', X_train.shape,  y_train.shape)\n",
    "print ('Test set:', X_test.shape,  y_test.shape)"
   ]
  },
  {
   "cell_type": "markdown",
   "id": "7dd70719",
   "metadata": {},
   "source": [
    "KNN"
   ]
  },
  {
   "cell_type": "code",
   "execution_count": 86,
   "id": "147fe25a",
   "metadata": {},
   "outputs": [],
   "source": [
    "k=2\n",
    "neigh1=KNeighborsClassifier(n_neighbors=k).fit(X_train,y_train)\n",
    "yhat=neigh1.predict(X_test)"
   ]
  },
  {
   "cell_type": "code",
   "execution_count": 87,
   "id": "a07a4b7d",
   "metadata": {},
   "outputs": [
    {
     "name": "stdout",
     "output_type": "stream",
     "text": [
      "Train set Accuracy:  0.9597657244716068\n",
      "Test set Accuracy:  0.960285132382892\n"
     ]
    }
   ],
   "source": [
    "from sklearn import metrics\n",
    "print(\"Train set Accuracy: \", metrics.accuracy_score(y_train, neigh1.predict(X_train)))\n",
    "print(\"Test set Accuracy: \", metrics.accuracy_score(y_test, yhat))"
   ]
  },
  {
   "cell_type": "code",
   "execution_count": 88,
   "id": "76ed3637",
   "metadata": {},
   "outputs": [],
   "source": [
    "import pickle\n",
    "\n",
    "knnPickle1 = open('Stroke', 'wb') \n",
    "pickle.dump(neigh1, knnPickle1)\n",
    "knnPickle1.close()\n"
   ]
  },
  {
   "cell_type": "code",
   "execution_count": 89,
   "id": "e10e33c7",
   "metadata": {},
   "outputs": [
    {
     "name": "stdout",
     "output_type": "stream",
     "text": [
      "Test set Accuracy:  0.960285132382892\n"
     ]
    }
   ],
   "source": [
    "loaded_model1 = pickle.load(open('Stroke', 'rb'))\n",
    "result1 = loaded_model1.predict(X_test) \n",
    "print(\"Test set Accuracy: \", metrics.accuracy_score(y_test, result1))"
   ]
  },
  {
   "cell_type": "markdown",
   "id": "65e01806",
   "metadata": {},
   "source": [
    "ANN"
   ]
  },
  {
   "cell_type": "code",
   "execution_count": 93,
   "id": "3252957f",
   "metadata": {},
   "outputs": [
    {
     "name": "stdout",
     "output_type": "stream",
     "text": [
      "Epoch 1/100\n",
      "123/123 [==============================] - 5s 5ms/step - loss: 0.2524 - accuracy: 0.9216\n",
      "Epoch 2/100\n",
      "123/123 [==============================] - 0s 4ms/step - loss: 0.1531 - accuracy: 0.9562\n",
      "Epoch 3/100\n",
      "123/123 [==============================] - 1s 4ms/step - loss: 0.1491 - accuracy: 0.9562\n",
      "Epoch 4/100\n",
      "123/123 [==============================] - 1s 5ms/step - loss: 0.1469 - accuracy: 0.9562\n",
      "Epoch 5/100\n",
      "123/123 [==============================] - 1s 5ms/step - loss: 0.1461 - accuracy: 0.9562\n",
      "Epoch 6/100\n",
      "123/123 [==============================] - 1s 4ms/step - loss: 0.1451 - accuracy: 0.9562\n",
      "Epoch 7/100\n",
      "123/123 [==============================] - 0s 4ms/step - loss: 0.1448 - accuracy: 0.9562\n",
      "Epoch 8/100\n",
      "123/123 [==============================] - 0s 4ms/step - loss: 0.1438 - accuracy: 0.9562\n",
      "Epoch 9/100\n",
      "123/123 [==============================] - 1s 5ms/step - loss: 0.1453 - accuracy: 0.9562\n",
      "Epoch 10/100\n",
      "123/123 [==============================] - 1s 5ms/step - loss: 0.1430 - accuracy: 0.9562\n",
      "Epoch 11/100\n",
      "123/123 [==============================] - 0s 4ms/step - loss: 0.1421 - accuracy: 0.9562\n",
      "Epoch 12/100\n",
      "123/123 [==============================] - 1s 6ms/step - loss: 0.1426 - accuracy: 0.9562\n",
      "Epoch 13/100\n",
      "123/123 [==============================] - 1s 5ms/step - loss: 0.1434 - accuracy: 0.9562\n",
      "Epoch 14/100\n",
      "123/123 [==============================] - 1s 5ms/step - loss: 0.1406 - accuracy: 0.9562\n",
      "Epoch 15/100\n",
      "123/123 [==============================] - 1s 4ms/step - loss: 0.1412 - accuracy: 0.9562\n",
      "Epoch 16/100\n",
      "123/123 [==============================] - 1s 5ms/step - loss: 0.1411 - accuracy: 0.9562\n",
      "Epoch 17/100\n",
      "123/123 [==============================] - 1s 5ms/step - loss: 0.1403 - accuracy: 0.9562\n",
      "Epoch 18/100\n",
      "123/123 [==============================] - 1s 4ms/step - loss: 0.1434 - accuracy: 0.9562\n",
      "Epoch 19/100\n",
      "123/123 [==============================] - 1s 5ms/step - loss: 0.1409 - accuracy: 0.9562\n",
      "Epoch 20/100\n",
      "123/123 [==============================] - 1s 5ms/step - loss: 0.1397 - accuracy: 0.9562\n",
      "Epoch 21/100\n",
      "123/123 [==============================] - 1s 4ms/step - loss: 0.1393 - accuracy: 0.9562\n",
      "Epoch 22/100\n",
      "123/123 [==============================] - 1s 5ms/step - loss: 0.1394 - accuracy: 0.9562\n",
      "Epoch 23/100\n",
      "123/123 [==============================] - 1s 5ms/step - loss: 0.1383 - accuracy: 0.9562\n",
      "Epoch 24/100\n",
      "123/123 [==============================] - 1s 4ms/step - loss: 0.1378 - accuracy: 0.9562\n",
      "Epoch 25/100\n",
      "123/123 [==============================] - 1s 5ms/step - loss: 0.1387 - accuracy: 0.9562\n",
      "Epoch 26/100\n",
      "123/123 [==============================] - 1s 4ms/step - loss: 0.1381 - accuracy: 0.9562\n",
      "Epoch 27/100\n",
      "123/123 [==============================] - 1s 5ms/step - loss: 0.1373 - accuracy: 0.9562\n",
      "Epoch 28/100\n",
      "123/123 [==============================] - 0s 4ms/step - loss: 0.1370 - accuracy: 0.9562\n",
      "Epoch 29/100\n",
      "123/123 [==============================] - 1s 5ms/step - loss: 0.1384 - accuracy: 0.9562\n",
      "Epoch 30/100\n",
      "123/123 [==============================] - 1s 5ms/step - loss: 0.1367 - accuracy: 0.9562\n",
      "Epoch 31/100\n",
      "123/123 [==============================] - 1s 5ms/step - loss: 0.1371 - accuracy: 0.9562\n",
      "Epoch 32/100\n",
      "123/123 [==============================] - 1s 5ms/step - loss: 0.1361 - accuracy: 0.9562\n",
      "Epoch 33/100\n",
      "123/123 [==============================] - 1s 4ms/step - loss: 0.1360 - accuracy: 0.9562\n",
      "Epoch 34/100\n",
      "123/123 [==============================] - 1s 5ms/step - loss: 0.1353 - accuracy: 0.9562\n",
      "Epoch 35/100\n",
      "123/123 [==============================] - 1s 5ms/step - loss: 0.1360 - accuracy: 0.9562\n",
      "Epoch 36/100\n",
      "123/123 [==============================] - 1s 4ms/step - loss: 0.1360 - accuracy: 0.9562\n",
      "Epoch 37/100\n",
      "123/123 [==============================] - 1s 5ms/step - loss: 0.1347 - accuracy: 0.9562\n",
      "Epoch 38/100\n",
      "123/123 [==============================] - 1s 4ms/step - loss: 0.1360 - accuracy: 0.9567\n",
      "Epoch 39/100\n",
      "123/123 [==============================] - 1s 5ms/step - loss: 0.1354 - accuracy: 0.9562\n",
      "Epoch 40/100\n",
      "123/123 [==============================] - 1s 5ms/step - loss: 0.1350 - accuracy: 0.9562: 0s - loss: 0.1256 \n",
      "Epoch 41/100\n",
      "123/123 [==============================] - 1s 4ms/step - loss: 0.1336 - accuracy: 0.9562\n",
      "Epoch 42/100\n",
      "123/123 [==============================] - 1s 5ms/step - loss: 0.1337 - accuracy: 0.9565\n",
      "Epoch 43/100\n",
      "123/123 [==============================] - 0s 4ms/step - loss: 0.1349 - accuracy: 0.9562\n",
      "Epoch 44/100\n",
      "123/123 [==============================] - 1s 5ms/step - loss: 0.1336 - accuracy: 0.9562\n",
      "Epoch 45/100\n",
      "123/123 [==============================] - 0s 4ms/step - loss: 0.1332 - accuracy: 0.9559\n",
      "Epoch 46/100\n",
      "123/123 [==============================] - 1s 5ms/step - loss: 0.1325 - accuracy: 0.9562\n",
      "Epoch 47/100\n",
      "123/123 [==============================] - 0s 4ms/step - loss: 0.1323 - accuracy: 0.9562\n",
      "Epoch 48/100\n",
      "123/123 [==============================] - 1s 6ms/step - loss: 0.1326 - accuracy: 0.9562\n",
      "Epoch 49/100\n",
      "123/123 [==============================] - 0s 4ms/step - loss: 0.1318 - accuracy: 0.9562\n",
      "Epoch 50/100\n",
      "123/123 [==============================] - 1s 5ms/step - loss: 0.1319 - accuracy: 0.9562\n",
      "Epoch 51/100\n",
      "123/123 [==============================] - 1s 4ms/step - loss: 0.1308 - accuracy: 0.9562\n",
      "Epoch 52/100\n",
      "123/123 [==============================] - 1s 4ms/step - loss: 0.1314 - accuracy: 0.9562\n",
      "Epoch 53/100\n",
      "123/123 [==============================] - 1s 5ms/step - loss: 0.1317 - accuracy: 0.9562\n",
      "Epoch 54/100\n",
      "123/123 [==============================] - 1s 6ms/step - loss: 0.1295 - accuracy: 0.9562\n",
      "Epoch 55/100\n",
      "123/123 [==============================] - 1s 5ms/step - loss: 0.1298 - accuracy: 0.9562\n",
      "Epoch 56/100\n",
      "123/123 [==============================] - 1s 5ms/step - loss: 0.1324 - accuracy: 0.9562\n",
      "Epoch 57/100\n",
      "123/123 [==============================] - 0s 4ms/step - loss: 0.1335 - accuracy: 0.9562\n",
      "Epoch 58/100\n",
      "123/123 [==============================] - 1s 4ms/step - loss: 0.1298 - accuracy: 0.9559\n",
      "Epoch 59/100\n",
      "123/123 [==============================] - 1s 4ms/step - loss: 0.1302 - accuracy: 0.9562\n",
      "Epoch 60/100\n",
      "123/123 [==============================] - 0s 3ms/step - loss: 0.1294 - accuracy: 0.9562\n",
      "Epoch 61/100\n",
      "123/123 [==============================] - 1s 5ms/step - loss: 0.1311 - accuracy: 0.9562\n",
      "Epoch 62/100\n",
      "123/123 [==============================] - 1s 5ms/step - loss: 0.1295 - accuracy: 0.9562\n",
      "Epoch 63/100\n",
      "123/123 [==============================] - 1s 6ms/step - loss: 0.1300 - accuracy: 0.9562\n",
      "Epoch 64/100\n",
      "123/123 [==============================] - 0s 4ms/step - loss: 0.1293 - accuracy: 0.9562\n",
      "Epoch 65/100\n",
      "123/123 [==============================] - 1s 5ms/step - loss: 0.1282 - accuracy: 0.9562\n",
      "Epoch 66/100\n",
      "123/123 [==============================] - 1s 4ms/step - loss: 0.1309 - accuracy: 0.9562\n",
      "Epoch 67/100\n",
      "123/123 [==============================] - 1s 5ms/step - loss: 0.1291 - accuracy: 0.9562\n",
      "Epoch 68/100\n",
      "123/123 [==============================] - 1s 5ms/step - loss: 0.1287 - accuracy: 0.9562\n",
      "Epoch 69/100\n",
      "123/123 [==============================] - 0s 4ms/step - loss: 0.1275 - accuracy: 0.9562\n",
      "Epoch 70/100\n",
      "123/123 [==============================] - 1s 5ms/step - loss: 0.1261 - accuracy: 0.9562\n",
      "Epoch 71/100\n",
      "123/123 [==============================] - 1s 5ms/step - loss: 0.1270 - accuracy: 0.9562\n",
      "Epoch 72/100\n",
      "123/123 [==============================] - 1s 5ms/step - loss: 0.1291 - accuracy: 0.9562\n",
      "Epoch 73/100\n",
      "123/123 [==============================] - 0s 4ms/step - loss: 0.1273 - accuracy: 0.9562\n",
      "Epoch 74/100\n",
      "123/123 [==============================] - 1s 4ms/step - loss: 0.1266 - accuracy: 0.9562\n",
      "Epoch 75/100\n",
      "123/123 [==============================] - 1s 4ms/step - loss: 0.1280 - accuracy: 0.9562\n",
      "Epoch 76/100\n",
      "123/123 [==============================] - 1s 5ms/step - loss: 0.1258 - accuracy: 0.9562\n",
      "Epoch 77/100\n",
      "123/123 [==============================] - 0s 3ms/step - loss: 0.1272 - accuracy: 0.9562\n",
      "Epoch 78/100\n",
      "123/123 [==============================] - 1s 5ms/step - loss: 0.1296 - accuracy: 0.9562\n",
      "Epoch 79/100\n",
      "123/123 [==============================] - 0s 4ms/step - loss: 0.1256 - accuracy: 0.9562\n",
      "Epoch 80/100\n",
      "123/123 [==============================] - 1s 5ms/step - loss: 0.1256 - accuracy: 0.9562\n",
      "Epoch 81/100\n",
      "123/123 [==============================] - 0s 3ms/step - loss: 0.1264 - accuracy: 0.9562\n",
      "Epoch 82/100\n",
      "123/123 [==============================] - 1s 5ms/step - loss: 0.1244 - accuracy: 0.9562\n",
      "Epoch 83/100\n",
      "123/123 [==============================] - 1s 4ms/step - loss: 0.1272 - accuracy: 0.9562\n",
      "Epoch 84/100\n",
      "123/123 [==============================] - 1s 5ms/step - loss: 0.1228 - accuracy: 0.9562\n",
      "Epoch 85/100\n",
      "123/123 [==============================] - 1s 5ms/step - loss: 0.1248 - accuracy: 0.9562\n",
      "Epoch 86/100\n",
      "123/123 [==============================] - 1s 4ms/step - loss: 0.1239 - accuracy: 0.9562\n",
      "Epoch 87/100\n",
      "123/123 [==============================] - 1s 6ms/step - loss: 0.1227 - accuracy: 0.9562\n",
      "Epoch 88/100\n",
      "123/123 [==============================] - 1s 4ms/step - loss: 0.1250 - accuracy: 0.9562\n",
      "Epoch 89/100\n",
      "123/123 [==============================] - 1s 5ms/step - loss: 0.1251 - accuracy: 0.9562\n",
      "Epoch 90/100\n",
      "123/123 [==============================] - 0s 4ms/step - loss: 0.1279 - accuracy: 0.9562\n",
      "Epoch 91/100\n",
      "123/123 [==============================] - 1s 5ms/step - loss: 0.1242 - accuracy: 0.9562\n",
      "Epoch 92/100\n",
      "123/123 [==============================] - 1s 5ms/step - loss: 0.1214 - accuracy: 0.9562\n",
      "Epoch 93/100\n",
      "123/123 [==============================] - 1s 5ms/step - loss: 0.1226 - accuracy: 0.9562\n",
      "Epoch 94/100\n",
      "123/123 [==============================] - 0s 4ms/step - loss: 0.1243 - accuracy: 0.9562\n",
      "Epoch 95/100\n",
      "123/123 [==============================] - 1s 5ms/step - loss: 0.1250 - accuracy: 0.9562\n",
      "Epoch 96/100\n",
      "123/123 [==============================] - 1s 4ms/step - loss: 0.1217 - accuracy: 0.9562\n",
      "Epoch 97/100\n",
      "123/123 [==============================] - 1s 5ms/step - loss: 0.1223 - accuracy: 0.9562\n",
      "Epoch 98/100\n",
      "123/123 [==============================] - 0s 4ms/step - loss: 0.1224 - accuracy: 0.9562\n",
      "Epoch 99/100\n",
      "123/123 [==============================] - 1s 4ms/step - loss: 0.1207 - accuracy: 0.9562: 0s - loss: 0.1054 - \n",
      "Epoch 100/100\n",
      "123/123 [==============================] - 1s 5ms/step - loss: 0.1213 - accuracy: 0.9562\n"
     ]
    },
    {
     "data": {
      "text/plain": [
       "<keras.callbacks.History at 0x225ba5fb970>"
      ]
     },
     "execution_count": 93,
     "metadata": {},
     "output_type": "execute_result"
    }
   ],
   "source": [
    "model = Sequential()\n",
    "\n",
    "model.add(Dense(8, activation=\"relu\", input_dim = 10))\n",
    "model.add(Dense(16, activation=\"relu\"))\n",
    "model.add(Dense(8, activation=\"relu\"))\n",
    "model.add(Dense(1, activation=\"sigmoid\"))\n",
    "model.compile(Adam(learning_rate=0.01), loss = \"binary_crossentropy\", metrics=[\"accuracy\"])\n",
    "model.fit(X_train, y_train, epochs=100)"
   ]
  },
  {
   "cell_type": "code",
   "execution_count": 94,
   "id": "d5065bbb",
   "metadata": {},
   "outputs": [
    {
     "name": "stdout",
     "output_type": "stream",
     "text": [
      "31/31 [==============================] - 1s 4ms/step - loss: 0.1652 - accuracy: 0.9623\n"
     ]
    }
   ],
   "source": [
    "acc,loss = model.evaluate(X_test,y_test)"
   ]
  },
  {
   "cell_type": "code",
   "execution_count": 95,
   "id": "84397583",
   "metadata": {},
   "outputs": [],
   "source": [
    "modeljson = model.to_json()\n",
    "obj=open(\"D:/Datasets/Stroke.json\",\"w\")\n",
    "obj.write(modeljson)\n",
    "obj.close()\n",
    "model.save_weights(\"D:/Datasets/Stroke.h5\")"
   ]
  },
  {
   "cell_type": "code",
   "execution_count": 3,
   "id": "851f3f06",
   "metadata": {},
   "outputs": [],
   "source": [
    "from tensorflow.keras.models import model_from_json\n",
    "abc=open(\"D:/Datasets/Stroke.json\",\"r\")\n",
    "loaded_data=abc.read()\n",
    "model=model_from_json(loaded_data)\n",
    "model.load_weights(\"D:/Datasets/Stroke.h5\")"
   ]
  },
  {
   "cell_type": "code",
   "execution_count": 4,
   "id": "c5ad9857",
   "metadata": {},
   "outputs": [],
   "source": [
    "from flask import Flask, render_template, request, redirect, url_for"
   ]
  },
  {
   "cell_type": "code",
   "execution_count": 5,
   "id": "e11bae7c",
   "metadata": {},
   "outputs": [],
   "source": [
    "app = Flask(__name__)\n",
    "\n",
    "@app.route('/')\n",
    "def home():\n",
    "    return render_template('home.html')\n",
    "\n",
    "@app.route('/', methods = ['POST','GET'])\n",
    "def get_data():\n",
    "    if request.method == 'POST':\n",
    "        lst = [request.form('gender'),\n",
    "               request.form('age'),\n",
    "               request.form('hypertension'),\n",
    "               request.form('heart_disease'),\n",
    "               request.form('ever_married'),\n",
    "               request.form('work_type'),\n",
    "               request.form('Residence_type'),\n",
    "               request.form('vg_glucose_level'),\n",
    "               request.form('bmi'),\n",
    "               request.form('smoking_status')]\n",
    "        arr = numpy.array(lst)\n",
    "    return redirect(url_for('results',arr))"
   ]
  },
  {
   "cell_type": "code",
   "execution_count": 6,
   "id": "6a6594cb",
   "metadata": {},
   "outputs": [
    {
     "name": "stdout",
     "output_type": "stream",
     "text": [
      " * Serving Flask app \"__main__\" (lazy loading)\n",
      " * Environment: production\n",
      "\u001b[31m   WARNING: This is a development server. Do not use it in a production deployment.\u001b[0m\n",
      "\u001b[2m   Use a production WSGI server instead.\u001b[0m\n",
      " * Debug mode: on\n"
     ]
    },
    {
     "name": "stderr",
     "output_type": "stream",
     "text": [
      " * Restarting with watchdog (windowsapi)\n"
     ]
    },
    {
     "ename": "SystemExit",
     "evalue": "1",
     "output_type": "error",
     "traceback": [
      "An exception has occurred, use %tb to see the full traceback.\n",
      "\u001b[1;31mSystemExit\u001b[0m\u001b[1;31m:\u001b[0m 1\n"
     ]
    },
    {
     "name": "stderr",
     "output_type": "stream",
     "text": [
      "E:\\Anaconda\\lib\\site-packages\\IPython\\core\\interactiveshell.py:3465: UserWarning: To exit: use 'exit', 'quit', or Ctrl-D.\n",
      "  warn(\"To exit: use 'exit', 'quit', or Ctrl-D.\", stacklevel=1)\n"
     ]
    }
   ],
   "source": [
    "app.run(debug=True)"
   ]
  },
  {
   "cell_type": "code",
   "execution_count": 7,
   "id": "86a1148b",
   "metadata": {},
   "outputs": [
    {
     "ename": "SystemExit",
     "evalue": "1",
     "output_type": "error",
     "traceback": [
      "\u001b[1;31m---------------------------------------------------------------------------\u001b[0m",
      "\u001b[1;31mSystemExit\u001b[0m                                Traceback (most recent call last)",
      "\u001b[1;32m~\\AppData\\Local\\Temp\\ipykernel_19756\\4170215208.py\u001b[0m in \u001b[0;36m<module>\u001b[1;34m\u001b[0m\n\u001b[1;32m----> 1\u001b[1;33m \u001b[0mapp\u001b[0m\u001b[1;33m.\u001b[0m\u001b[0mrun\u001b[0m\u001b[1;33m(\u001b[0m\u001b[0mdebug\u001b[0m\u001b[1;33m=\u001b[0m\u001b[1;32mTrue\u001b[0m\u001b[1;33m)\u001b[0m\u001b[1;33m\u001b[0m\u001b[1;33m\u001b[0m\u001b[0m\n\u001b[0m",
      "\u001b[1;32mE:\\Anaconda\\lib\\site-packages\\flask\\app.py\u001b[0m in \u001b[0;36mrun\u001b[1;34m(self, host, port, debug, load_dotenv, **options)\u001b[0m\n\u001b[0;32m    988\u001b[0m \u001b[1;33m\u001b[0m\u001b[0m\n\u001b[0;32m    989\u001b[0m         \u001b[1;32mtry\u001b[0m\u001b[1;33m:\u001b[0m\u001b[1;33m\u001b[0m\u001b[1;33m\u001b[0m\u001b[0m\n\u001b[1;32m--> 990\u001b[1;33m             \u001b[0mrun_simple\u001b[0m\u001b[1;33m(\u001b[0m\u001b[0mhost\u001b[0m\u001b[1;33m,\u001b[0m \u001b[0mport\u001b[0m\u001b[1;33m,\u001b[0m \u001b[0mself\u001b[0m\u001b[1;33m,\u001b[0m \u001b[1;33m**\u001b[0m\u001b[0moptions\u001b[0m\u001b[1;33m)\u001b[0m\u001b[1;33m\u001b[0m\u001b[1;33m\u001b[0m\u001b[0m\n\u001b[0m\u001b[0;32m    991\u001b[0m         \u001b[1;32mfinally\u001b[0m\u001b[1;33m:\u001b[0m\u001b[1;33m\u001b[0m\u001b[1;33m\u001b[0m\u001b[0m\n\u001b[0;32m    992\u001b[0m             \u001b[1;31m# reset the first request information if the development server\u001b[0m\u001b[1;33m\u001b[0m\u001b[1;33m\u001b[0m\u001b[0m\n",
      "\u001b[1;32mE:\\Anaconda\\lib\\site-packages\\werkzeug\\serving.py\u001b[0m in \u001b[0;36mrun_simple\u001b[1;34m(hostname, port, application, use_reloader, use_debugger, use_evalex, extra_files, exclude_patterns, reloader_interval, reloader_type, threaded, processes, request_handler, static_files, passthrough_errors, ssl_context)\u001b[0m\n\u001b[0;32m   1007\u001b[0m         \u001b[1;32mfrom\u001b[0m \u001b[1;33m.\u001b[0m\u001b[0m_reloader\u001b[0m \u001b[1;32mimport\u001b[0m \u001b[0mrun_with_reloader\u001b[0m \u001b[1;32mas\u001b[0m \u001b[0m_rwr\u001b[0m\u001b[1;33m\u001b[0m\u001b[1;33m\u001b[0m\u001b[0m\n\u001b[0;32m   1008\u001b[0m \u001b[1;33m\u001b[0m\u001b[0m\n\u001b[1;32m-> 1009\u001b[1;33m         _rwr(\n\u001b[0m\u001b[0;32m   1010\u001b[0m             \u001b[0minner\u001b[0m\u001b[1;33m,\u001b[0m\u001b[1;33m\u001b[0m\u001b[1;33m\u001b[0m\u001b[0m\n\u001b[0;32m   1011\u001b[0m             \u001b[0mextra_files\u001b[0m\u001b[1;33m=\u001b[0m\u001b[0mextra_files\u001b[0m\u001b[1;33m,\u001b[0m\u001b[1;33m\u001b[0m\u001b[1;33m\u001b[0m\u001b[0m\n",
      "\u001b[1;32mE:\\Anaconda\\lib\\site-packages\\werkzeug\\_reloader.py\u001b[0m in \u001b[0;36mrun_with_reloader\u001b[1;34m(main_func, extra_files, exclude_patterns, interval, reloader_type)\u001b[0m\n\u001b[0;32m    426\u001b[0m                 \u001b[0mreloader\u001b[0m\u001b[1;33m.\u001b[0m\u001b[0mrun\u001b[0m\u001b[1;33m(\u001b[0m\u001b[1;33m)\u001b[0m\u001b[1;33m\u001b[0m\u001b[1;33m\u001b[0m\u001b[0m\n\u001b[0;32m    427\u001b[0m         \u001b[1;32melse\u001b[0m\u001b[1;33m:\u001b[0m\u001b[1;33m\u001b[0m\u001b[1;33m\u001b[0m\u001b[0m\n\u001b[1;32m--> 428\u001b[1;33m             \u001b[0msys\u001b[0m\u001b[1;33m.\u001b[0m\u001b[0mexit\u001b[0m\u001b[1;33m(\u001b[0m\u001b[0mreloader\u001b[0m\u001b[1;33m.\u001b[0m\u001b[0mrestart_with_reloader\u001b[0m\u001b[1;33m(\u001b[0m\u001b[1;33m)\u001b[0m\u001b[1;33m)\u001b[0m\u001b[1;33m\u001b[0m\u001b[1;33m\u001b[0m\u001b[0m\n\u001b[0m\u001b[0;32m    429\u001b[0m     \u001b[1;32mexcept\u001b[0m \u001b[0mKeyboardInterrupt\u001b[0m\u001b[1;33m:\u001b[0m\u001b[1;33m\u001b[0m\u001b[1;33m\u001b[0m\u001b[0m\n\u001b[0;32m    430\u001b[0m         \u001b[1;32mpass\u001b[0m\u001b[1;33m\u001b[0m\u001b[1;33m\u001b[0m\u001b[0m\n",
      "\u001b[1;31mSystemExit\u001b[0m: 1"
     ]
    }
   ],
   "source": [
    "%tb"
   ]
  },
  {
   "cell_type": "code",
   "execution_count": null,
   "id": "7dbb340d",
   "metadata": {},
   "outputs": [],
   "source": []
  }
 ],
 "metadata": {
  "kernelspec": {
   "display_name": "Python 3 (ipykernel)",
   "language": "python",
   "name": "python3"
  },
  "language_info": {
   "codemirror_mode": {
    "name": "ipython",
    "version": 3
   },
   "file_extension": ".py",
   "mimetype": "text/x-python",
   "name": "python",
   "nbconvert_exporter": "python",
   "pygments_lexer": "ipython3",
   "version": "3.9.7"
  }
 },
 "nbformat": 4,
 "nbformat_minor": 5
}
